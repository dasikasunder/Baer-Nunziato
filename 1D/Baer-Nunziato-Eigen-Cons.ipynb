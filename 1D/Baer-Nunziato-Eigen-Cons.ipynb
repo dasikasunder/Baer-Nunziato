{
 "cells": [
  {
   "cell_type": "code",
   "execution_count": 1,
   "metadata": {},
   "outputs": [],
   "source": [
    "from sympy import *\n",
    "init_printing()\n",
    "x, y, t = symbols('x y t')\n",
    "gamma_s, gamma_g, pi_s, pi_g = symbols('gamma_s gamma_g pi_s pi_g') "
   ]
  },
  {
   "cell_type": "code",
   "execution_count": 2,
   "metadata": {},
   "outputs": [],
   "source": [
    "# Conserved Variables \n",
    "\n",
    "q_1, q_2, q_3, q_4, q_5, q_6, q_7 = symbols('q_1 q_2 q_3 q_4 q_5 q_6 q_7') \n",
    "\n",
    "# Physical variables \n",
    "\n",
    "phi_s = q_7      \n",
    "phi_g = 1 - q_7\n",
    "\n",
    "rho_s = q_1/phi_s; \n",
    "rho_g = q_4/phi_g;\n",
    "\n",
    "u_s = q_2/q_1;     \n",
    "u_g = q_5/q_4; \n",
    "\n",
    "E_s = q_3/phi_s;   \n",
    "E_g = q_6/phi_g;\n",
    "\n",
    "p_s = (gamma_s - 1)*(E_s - Rational(1,2)*rho_s*u_s*u_s) - gamma_s*pi_s;\n",
    "p_g = (gamma_g - 1)*(E_g - Rational(1,2)*rho_g*u_g*u_g) - gamma_g*pi_g;\n",
    "\n",
    "# Conserved fluxes \n",
    "\n",
    "f_1 = phi_s*rho_s*u_s\n",
    "f_2 = phi_s*(rho_s*u_s*u_s + p_s) \n",
    "f_3 = phi_s*u_s*(E_s + p_s)\n",
    "\n",
    "f_4 = phi_g*rho_g*u_g\n",
    "f_5 = phi_g*(rho_g*u_g*u_g + p_g) \n",
    "f_6 = phi_g*u_g*(E_g + p_g)\n",
    "\n",
    "f_7 = 0\n",
    "\n",
    "\n",
    "# Primitive variables \n",
    "\n",
    "v_1 = rho_s\n",
    "\n",
    "v_2 = u_s\n",
    "v_3 = p_s\n",
    "v_4 = rho_g\n",
    "\n",
    "v_5 = u_g\n",
    "v_6 = p_g \n",
    "v_7 = phi_s\n",
    "\n",
    "Q = Matrix([q_1, q_2, q_3, q_4, q_5, q_6, q_7])\n",
    "V = Matrix([v_1, v_2, v_3, v_4, v_5, v_6, v_7])\n",
    "F = Matrix([f_1, f_2, f_3, f_4, f_5, f_6, f_7])\n",
    "\n",
    "# Matrix B\n",
    "\n",
    "B = zeros(7, 7)\n",
    "\n",
    "u_I = u_s      \n",
    "p_I = p_g\n",
    "\n",
    "B[1,6] = -p_I;\n",
    "B[2,6] = -p_I*u_I; \n",
    "B[4,6] =  p_I;\n",
    "B[5,6] =  p_I*u_I;\n",
    "B[6,6] =  u_I;\n",
    "\n",
    "A = F.jacobian(Q) + B"
   ]
  },
  {
   "cell_type": "code",
   "execution_count": 3,
   "metadata": {},
   "outputs": [],
   "source": [
    "DV_DQ  = simplify(V.jacobian(Q))"
   ]
  }
 ],
 "metadata": {
  "kernelspec": {
   "display_name": "Python 3",
   "language": "python",
   "name": "python3"
  },
  "language_info": {
   "codemirror_mode": {
    "name": "ipython",
    "version": 3
   },
   "file_extension": ".py",
   "mimetype": "text/x-python",
   "name": "python",
   "nbconvert_exporter": "python",
   "pygments_lexer": "ipython3",
   "version": "3.8.2"
  }
 },
 "nbformat": 4,
 "nbformat_minor": 2
}
