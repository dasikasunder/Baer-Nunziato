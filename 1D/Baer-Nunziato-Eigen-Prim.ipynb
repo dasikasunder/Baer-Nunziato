{
 "cells": [
  {
   "cell_type": "code",
   "execution_count": 1,
   "metadata": {},
   "outputs": [],
   "source": [
    "from sympy import *\n",
    "init_printing()\n",
    "x, y, t = symbols('x y t')\n",
    "gamma_s, gamma_g, pi_s, pi_g = symbols('gamma_s gamma_g pi_s pi_g') "
   ]
  },
  {
   "cell_type": "code",
   "execution_count": 2,
   "metadata": {},
   "outputs": [],
   "source": [
    "rho_s, rho_g, u_s, u_g, p_s, p_g, phi_s, phi_g, H_s, H_g, a_s, a_g = symbols('rho_s rho_g u_s u_g p_s p_g phi_s phi_g H_s H_g a_s a_g') \n",
    "\n",
    "q_1 = phi_s*rho_s; \n",
    "q_2 = q_1*u_s;\n",
    "q_3 = phi_s*rho_s*(Rational(1,2)*u_s*u_s + (p_s + gamma_s*pi_s)/(rho_s*(gamma_s-1)));\n",
    "q_4 = (1-phi_s)*rho_g; \n",
    "q_5 = q_4*u_g; \n",
    "q_6 = (1-phi_s)*rho_g*(Rational(1,2)*u_g*u_g + (p_g + gamma_g*pi_g)/(rho_g*(gamma_g-1)));\n",
    "q_7 = phi_s; \n",
    "\n",
    "Q = Matrix([q_1, q_2, q_3, q_4, q_5, q_6, q_7])\n",
    "V = Matrix([rho_s, u_s, p_s, rho_g, u_g, p_g, phi_s])\n",
    "\n",
    "DQ_DV = simplify(Q.jacobian(V))\n",
    "DV_DQ = simplify(Matrix([[1/q_7, 0, 0, 0, 0, 0, -q_1/q_7**2], [-q_2/q_1**2, 1/q_1, 0, 0, 0, 0, 0], [q_2**2*(gamma_s - 1)/(2*q_1**2*q_7), -q_2*(gamma_s - 1)/(q_1*q_7), (gamma_s - 1)/q_7, 0, 0, 0, -(gamma_s - 1)*(2*q_1*q_3 - q_2**2)/(2*q_1*q_7**2)], [0, 0, 0, -1/(q_7 - 1), 0, 0, q_4/(q_7 - 1)**2], [0, 0, 0, -q_5/q_4**2, 1/q_4, 0, 0], [0, 0, 0, q_5**2*(1 - gamma_g)/(2*q_4**2*(q_7 - 1)), q_5*(gamma_g - 1)/(q_4*(q_7 - 1)), (1 - gamma_g)/(q_7 - 1), (gamma_g - 1)*(2*q_4*q_6 - q_5**2)/(2*q_4*(q_7 - 1)**2)], [0, 0, 0, 0, 0, 0, 1]]))"
   ]
  },
  {
   "cell_type": "code",
   "execution_count": 3,
   "metadata": {},
   "outputs": [],
   "source": [
    "A  = zeros(7, 7)\n",
    "A[0,1] = 1\n",
    "\n",
    "A[1,0] = simplify(q_7*(q_2**2*(gamma_s - 1)/(2*q_1**2*q_7) - q_2**2/(q_1**2*q_7)))\n",
    "A[1,1] = simplify(q_7*(-q_2*(gamma_s - 1)/(q_1*q_7) + 2*q_2/(q_1*q_7)))\n",
    "A[1,2] = gamma_s - 1\n",
    "A[1,6] = simplify(gamma_g*pi_g - gamma_s*pi_s + q_7*((gamma_s - 1)*(-q_3/q_7**2 + q_2**2/(2*q_1*q_7**2)) - q_2**2/(q_1*q_7**2)) - (gamma_g - 1)*(q_6/(1 - q_7) - q_5**2/(2*q_4*(1 - q_7))) + (gamma_s - 1)*(q_3/q_7 - q_2**2/(2*q_1*q_7)) + q_2**2/(q_1*q_7))\n",
    "\n",
    "A[2,0] = simplify(-q_2*q_7*(-gamma_s*pi_s + q_3/q_7 + (gamma_s - 1)*(q_3/q_7 - q_2**2/(2*q_1*q_7)))/q_1**2 + q_2**3*(gamma_s - 1)/(2*q_1**3))\n",
    "A[2,1] = simplify(q_7*(-gamma_s*pi_s + q_3/q_7 + (gamma_s - 1)*(q_3/q_7 - q_2**2/(2*q_1*q_7)))/q_1 - q_2**2*(gamma_s - 1)/q_1**2)\n",
    "A[2,2] = simplify(q_2*q_7*((gamma_s - 1)/q_7 + 1/q_7)/q_1)\n",
    "A[2,6] = simplify(q_2*q_7*(-q_3/q_7**2 + (gamma_s - 1)*(-q_3/q_7**2 + q_2**2/(2*q_1*q_7**2)))/q_1 + q_2*(gamma_g*pi_g - (gamma_g - 1)*(q_6/(1 - q_7) - q_5**2/(2*q_4*(1 - q_7))))/q_1 + q_2*(-gamma_s*pi_s + q_3/q_7 + (gamma_s - 1)*(q_3/q_7 - q_2**2/(2*q_1*q_7)))/q_1)\n",
    "\n",
    "A[3,4] = 1\n",
    "\n",
    "A[4,3] = simplify((1 - q_7)*(q_5**2*(gamma_g - 1)/(2*q_4**2*(1 - q_7)) - q_5**2/(q_4**2*(1 - q_7))))\n",
    "A[4,4] = simplify((1 - q_7)*(-q_5*(gamma_g - 1)/(q_4*(1 - q_7)) + 2*q_5/(q_4*(1 - q_7))))\n",
    "A[4,5] = gamma_g - 1\n",
    "A[4,6] = simplify((1 - q_7)*((gamma_g - 1)*(q_6/(1 - q_7)**2 - q_5**2/(2*q_4*(1 - q_7)**2)) + q_5**2/(q_4*(1 - q_7)**2)) - q_5**2/(q_4*(1 - q_7)))\n",
    "\n",
    "A[5,3] = simplify(-q_5*(1 - q_7)*(-gamma_g*pi_g + q_6/(1 - q_7) + (gamma_g - 1)*(q_6/(1 - q_7) - q_5**2/(2*q_4*(1 - q_7))))/q_4**2 + q_5**3*(gamma_g - 1)/(2*q_4**3))\n",
    "A[5,4] = simplify((1 - q_7)*(-gamma_g*pi_g + q_6/(1 - q_7) + (gamma_g - 1)*(q_6/(1 - q_7) - q_5**2/(2*q_4*(1 - q_7))))/q_4 - q_5**2*(gamma_g - 1)/q_4**2)\n",
    "A[5,5] = simplify(q_5*(1 - q_7)*((gamma_g - 1)/(1 - q_7) + 1/(1 - q_7))/q_4)\n",
    "A[5,6] = simplify(q_5*(1 - q_7)*(q_6/(1 - q_7)**2 + (gamma_g - 1)*(q_6/(1 - q_7)**2 - q_5**2/(2*q_4*(1 - q_7)**2)))/q_4 - q_5*(-gamma_g*pi_g + q_6/(1 - q_7) + (gamma_g - 1)*(q_6/(1 - q_7) - q_5**2/(2*q_4*(1 - q_7))))/q_4 + q_2*(-gamma_g*pi_g + (gamma_g - 1)*(q_6/(1 - q_7) - q_5**2/(2*q_4*(1 - q_7))))/q_1)\n",
    "\n",
    "A[6,6] = q_2/q_1"
   ]
  },
  {
   "cell_type": "code",
   "execution_count": 4,
   "metadata": {},
   "outputs": [],
   "source": [
    "A_p = simplify(DV_DQ*A*DQ_DV)"
   ]
  },
  {
   "cell_type": "code",
   "execution_count": 5,
   "metadata": {},
   "outputs": [],
   "source": [
    "P, D = A_p.diagonalize()\n",
    "\n",
    "P_inv = P**-1"
   ]
  },
  {
   "cell_type": "code",
   "execution_count": 6,
   "metadata": {},
   "outputs": [
    {
     "data": {
      "text/latex": [
       "$\\displaystyle \\left[\\begin{matrix}- \\frac{\\gamma_{s} + 1}{2 \\sqrt{\\gamma_{s} \\rho_{s} \\left(p_{s} + \\pi_{s}\\right)}}\\end{matrix}\\right]$"
      ],
      "text/plain": [
       "⎡      -(γₛ + 1)      ⎤\n",
       "⎢─────────────────────⎥\n",
       "⎢    _________________⎥\n",
       "⎣2⋅╲╱ γₛ⋅ρₛ⋅(pₛ + πₛ) ⎦"
      ]
     },
     "execution_count": 6,
     "metadata": {},
     "output_type": "execute_result"
    }
   ],
   "source": [
    "# Check for linear degeneracy \n",
    "\n",
    "grad = zeros(1,7)\n",
    "\n",
    "comp = 5\n",
    "\n",
    "for i in range(0,7):\n",
    "    grad[0,i] = simplify(D[comp,comp].diff(V[i]))\n",
    "    \n",
    "simplify(grad*P[:,comp])"
   ]
  }
 ],
 "metadata": {
  "kernelspec": {
   "display_name": "Python 3",
   "language": "python",
   "name": "python3"
  },
  "language_info": {
   "codemirror_mode": {
    "name": "ipython",
    "version": 3
   },
   "file_extension": ".py",
   "mimetype": "text/x-python",
   "name": "python",
   "nbconvert_exporter": "python",
   "pygments_lexer": "ipython3",
   "version": "3.8.2"
  }
 },
 "nbformat": 4,
 "nbformat_minor": 2
}
